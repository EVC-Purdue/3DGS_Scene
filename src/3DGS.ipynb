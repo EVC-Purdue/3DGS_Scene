{
 "cells": [
  {
   "metadata": {
    "jupyter": {
     "is_executing": true
    }
   },
   "cell_type": "code",
   "source": [
    "import os\n",
    "import subprocess"
   ],
   "id": "fc74ab113abdca59",
   "outputs": [],
   "execution_count": null
  },
  {
   "metadata": {},
   "cell_type": "code",
   "outputs": [],
   "execution_count": null,
   "source": "",
   "id": "3e229c907c9de76c"
  },
  {
   "metadata": {
    "tags": [
     "Test"
    ]
   },
   "cell_type": "code",
   "outputs": [],
   "execution_count": null,
   "source": [
    "%%bash\n",
    "cd /workspace/3DGS_Scene/src\n",
    "mkdir data\n",
    "mkdir videos\n",
    "s5cmd cp s3://purdue-evc-data/photos/* ./data/\n",
    "s5cmd cp s3://purdue-evc-data/video-frames/* ./data/\n",
    "s5cmd cp s3://purdue-evc-data/videos/* ./videos/\n"
   ],
   "id": "8b6a5a8105b184b9"
  },
  {
   "metadata": {},
   "cell_type": "code",
   "outputs": [],
   "execution_count": null,
   "source": [
    "%%bash cd /workspace/3DGS_Scene/src\n",
    "%%bash mkdir ./video_frames\n",
    "videos = os.listdir('./videos')\n",
    "for i, v in enumerate(videos):\n",
    "  print(f\"Processing Video {i}: {v}\")\n",
    "  os.mkdir(f'./video_frames/{v}')\n",
    "  subprocess.run(f\"ffmpeg -hide_banner -loglevel error -i ./videos/{v} ./video_frames/{v}/image_%06d.JPEG\", shell=True, check=True)\n"
   ],
   "id": "d85a726876ee4462"
  },
  {
   "metadata": {},
   "cell_type": "code",
   "outputs": [],
   "execution_count": null,
   "source": [
    "import os, cv2, numpy as np\n",
    "\n",
    "IMG_EXTS = {\".jpg\", \".jpeg\", \".png\", \".JPG\", \".JPEG\", \".PNG\"}\n",
    "\n",
    "def is_image(p): return os.path.splitext(p)[1] in IMG_EXTS\n",
    "\n",
    "def make_sky_mask(img):\n",
    "    h, w = img.shape[:2]\n",
    "    small = cv2.resize(img, (w//2, h//2), interpolation=cv2.INTER_AREA) if max(h,w) > 2000 else img\n",
    "    scale = img.shape[1] / small.shape[1]\n",
    "\n",
    "    hsv = cv2.cvtColor(small, cv2.COLOR_BGR2HSV)\n",
    "    H,S,V = cv2.split(hsv)\n",
    "\n",
    "    # Sky candidates: bright & desaturated OR bluish hues\n",
    "    cand1 = (S < 60) & (V > 160)\n",
    "    cand2 = ((H > 90) & (H < 140)) & (S > 30) & (V > 80)  # tweak if sky is grey\n",
    "    sky_cand = (cand1 | cand2).astype(np.uint8) * 255\n",
    "\n",
    "    # Edge barrier to avoid flooding into ground/structures\n",
    "    edges = cv2.Canny(cv2.GaussianBlur(cv2.cvtColor(small, cv2.COLOR_BGR2GRAY), (5,5), 0), 80, 160)\n",
    "    barrier = cv2.dilate(edges, np.ones((3,3), np.uint8), iterations=1)\n",
    "\n",
    "    # Flood-fill from the top border using sky candidates as a guide\n",
    "    ff_mask = np.zeros((small.shape[0]+2, small.shape[1]+2), np.uint8)\n",
    "    flood_src = sky_cand.copy()\n",
    "    flood_src[barrier > 0] = 0\n",
    "    # seed along top row\n",
    "    for x in range(0, small.shape[1], max(1, small.shape[1]//64)):\n",
    "        if flood_src[0, x] > 0:\n",
    "            cv2.floodFill(flood_src, ff_mask, (x, 0), 255, flags=8)\n",
    "    sky = (flood_src == 255).astype(np.uint8) * 255\n",
    "\n",
    "    # Cleanup and upscale\n",
    "    sky = cv2.morphologyEx(sky, cv2.MORPH_CLOSE, np.ones((7,7), np.uint8), iterations=1)\n",
    "    if scale != 1.0:\n",
    "        sky = cv2.resize(sky, (w, h), interpolation=cv2.INTER_NEAREST)\n",
    "\n",
    "    # COLMAP expects black=ignored, white=used. We want to ignore sky.\n",
    "    mask = np.ones((h, w), np.uint8) * 255\n",
    "    mask[sky == 255] = 0\n",
    "    return mask\n",
    "\n",
    "\n",
    "def process_tree(image_root, mask_root):\n",
    "    for root, _, files in os.walk(image_root):\n",
    "        for fn in files:\n",
    "            if not is_image(fn): continue\n",
    "            img_path = os.path.join(root, fn)\n",
    "            rel = os.path.relpath(img_path, image_root)\n",
    "            out_dir = os.path.join(mask_root, os.path.dirname(rel))\n",
    "            os.makedirs(out_dir, exist_ok=True)\n",
    "            # COLMAP rule: mask filename = original filename + \".png\"\n",
    "            out_path = os.path.join(out_dir, fn + \".png\")\n",
    "\n",
    "            img = cv2.imread(img_path, cv2.IMREAD_COLOR)\n",
    "            mask = make_sky_mask(img)\n",
    "            cv2.imwrite(out_path, mask)\n",
    "        "
   ],
   "id": "49afca48f27b9884"
  },
  {
   "metadata": {},
   "cell_type": "code",
   "outputs": [],
   "execution_count": null,
   "source": "process_tree('./data', './masks')",
   "id": "2f0ddffc9f0d0474"
  },
  {
   "cell_type": "code",
   "execution_count": null,
   "id": "initial_id",
   "metadata": {
    "collapsed": true
   },
   "outputs": [],
   "source": [
    "%%bash\n",
    "cd /workspace/3DGS_Scene/src\n",
    "colmap feature_extractor \\\n",
    "  --database_path colmap.db \\\n",
    "  --image_path ./data \\\n",
    "  --ImageReader.mask_path ./masks \\\n",
    "  --SiftExtraction.use_gpu 1 \\\n",
    "  --SiftExtraction.max_num_features 20000"
   ]
  },
  {
   "metadata": {},
   "cell_type": "code",
   "outputs": [],
   "execution_count": null,
   "source": [
    "%%bash\n",
    "colmap sequential_matcher --database_path colmap.db --SiftMatching.use_gpu 1\n",
    "colmap vocab_tree_matcher --database_path colmap.db --VocabTreeMatching.vocab_tree_path path/to/vocab_tree.bin --SiftMatching.use_gpu 1\n",
    "colmap mapper --database_path colmap.db --image_path ./data --output_path ./colmap_sparse"
   ],
   "id": "f7c581ac319b149d"
  },
  {
   "metadata": {},
   "cell_type": "code",
   "outputs": [],
   "execution_count": null,
   "source": [
    "%%bash\n",
    "colmap image_undistorter --image_path ./data --input_path ./colmap_sparse/0 --output_path ./colmap_dense --output_type COLMAP\n",
    "\n",
    "ns-process-data colmap \\\n",
    "  --colmap-model-path ./colmap_dense \\\n",
    "  --image-dir ./colmap_dense/images \\\n",
    "  --output-dir ./nerf_outdoor --copy-images"
   ],
   "id": "ba73161c4cd10de3"
  },
  {
   "metadata": {},
   "cell_type": "code",
   "outputs": [],
   "execution_count": null,
   "source": [
    "%%bash\n",
    "cd /workspace/3DGS_Scene/src\n",
    "xvfb-run -a ns-process-data images \\\n",
    "  --data ./data \\\n",
    "  --output-dir ./nerf_outdoor \\\n",
    "  --matching-method sequential \\\n",
    "  --sfm-tool colmap \\\n",
    "  --verbose\n",
    "\n",
    "ns-train splatfacto \\\n",
    "    --data ./data \\\n",
    "    --output-dir ./outputs_outdoor \\\n",
    "    --max-num-iterations 30000 \\\n",
    "    --pipeline.model.num-random-init 50000 \\\n",
    "    --pipeline.model.cull-alpha-thresh 0.005 \\\n",
    "    --pipeline.model.densify-grad-thresh 0.0002 \\\n",
    "    --pipeline.model.resolution-schedule 3000 \\\n",
    "    --pipeline.model.background-color random \\\n",
    "    --pipeline.datamanager.train-num-rays-per-batch 16384"
   ],
   "id": "89d6ec22cc8a516b"
  }
 ],
 "metadata": {
  "kernelspec": {
   "display_name": "Python 3",
   "language": "python",
   "name": "python3"
  },
  "language_info": {
   "codemirror_mode": {
    "name": "ipython",
    "version": 2
   },
   "file_extension": ".py",
   "mimetype": "text/x-python",
   "name": "python",
   "nbconvert_exporter": "python",
   "pygments_lexer": "ipython2",
   "version": "2.7.6"
  }
 },
 "nbformat": 4,
 "nbformat_minor": 5
}
