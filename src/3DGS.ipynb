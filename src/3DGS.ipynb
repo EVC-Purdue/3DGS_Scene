{
 "cells": [
  {
   "metadata": {
    "jupyter": {
     "is_executing": true
    }
   },
   "cell_type": "code",
   "source": [
    "import os\n",
    "import subprocess"
   ],
   "id": "fc74ab113abdca59",
   "outputs": [],
   "execution_count": null
  },
  {
   "metadata": {
    "tags": [
     "Test"
    ]
   },
   "cell_type": "code",
   "outputs": [],
   "execution_count": null,
   "source": [
    "%%bash\n",
    "cd /workspace/3DGS_Scene/src\n",
    "mkdir data\n",
    "s5cmd cp s3://purdue-evc-data/photos/* data/\n",
    "s5cmd cp s3://purdue-evc-data/video-frames/* data/\n"
   ],
   "id": "8b6a5a8105b184b9"
  },
  {
   "cell_type": "code",
   "execution_count": null,
   "id": "initial_id",
   "metadata": {
    "collapsed": true
   },
   "outputs": [],
   "source": [
    "%%bash\n",
    "cd /workspace/3DGS_Scene/src\n",
    "ns-process-data images \\\n",
    "    --data ./data \\\n",
    "    --output-dir ./track_vocab \\\n",
    "    --matching-method vocab_tree \\\n",
    "    --num-downscales 4"
   ]
  },
  {
   "metadata": {},
   "cell_type": "code",
   "outputs": [],
   "execution_count": null,
   "source": [
    "%%bash\n",
    "cd /workspace/3DGS_Scene/src\n",
    "xvfb-run -a ns-process-data images \\\n",
    "  --data ./data \\\n",
    "  --output-dir ./nerf_outdoor \\\n",
    "  --matching-method sequential \\\n",
    "  --sfm-tool colmap \\\n",
    "  --verbose\n",
    "\n",
    "ns-train splatfacto \\\n",
    "    --data ./data \\\n",
    "    --output-dir ./outputs_outdoor \\\n",
    "    --max-num-iterations 30000 \\\n",
    "    --pipeline.model.num-random-init 50000 \\\n",
    "    --pipeline.model.cull-alpha-thresh 0.005 \\\n",
    "    --pipeline.model.densify-grad-thresh 0.0002 \\\n",
    "    --pipeline.model.resolution-schedule 3000 \\\n",
    "    --pipeline.model.background-color random \\\n",
    "    --pipeline.datamanager.train-num-rays-per-batch 16384"
   ],
   "id": "89d6ec22cc8a516b"
  }
 ],
 "metadata": {
  "kernelspec": {
   "display_name": "Python 3",
   "language": "python",
   "name": "python3"
  },
  "language_info": {
   "codemirror_mode": {
    "name": "ipython",
    "version": 2
   },
   "file_extension": ".py",
   "mimetype": "text/x-python",
   "name": "python",
   "nbconvert_exporter": "python",
   "pygments_lexer": "ipython2",
   "version": "2.7.6"
  }
 },
 "nbformat": 4,
 "nbformat_minor": 5
}
